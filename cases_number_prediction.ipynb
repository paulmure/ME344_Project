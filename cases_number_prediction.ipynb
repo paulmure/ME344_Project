{
 "cells": [
  {
   "cell_type": "code",
   "execution_count": 1,
   "metadata": {},
   "outputs": [],
   "source": [
    "import os\n",
    "os.environ[\"CUDA_VISIBLE_DEVICES\"] = \"-1\"\n",
    "\n",
    "import tensorflow as tf\n",
    "from tensorflow.keras.layers import Input, LSTM, Dense, Concatenate, Dropout\n",
    "from tensorflow.keras.losses import MeanSquaredError\n",
    "from tensorflow.keras import Model\n",
    "import numpy as np\n",
    "from matplotlib import pyplot as plt\n",
    "import tensorboard\n",
    "%load_ext tensorboard"
   ]
  },
  {
   "cell_type": "code",
   "execution_count": 2,
   "metadata": {},
   "outputs": [],
   "source": [
    "def get_data():\n",
    "    #filename = os.path.abspath(os.path.join(os.path.dirname( __file__ ), 'data', 'processed', 'cases_with_population_and_hospital.csv'))\n",
    "    filename = 'data/processed/timestamped_cases_with_population_and_hospital.csv'\n",
    "    data = np.genfromtxt(filename, delimiter=',')\n",
    "    np.random.shuffle(data)\n",
    "    return data\n",
    "\n",
    "def get_sliced_data(data):\n",
    "    result = {}\n",
    "    train_x1 = data[:10000, :4]\n",
    "    result['train_x1'] = train_x1[:, :, np.newaxis]\n",
    "    result['train_x2'] = data[:10000, 4:13]\n",
    "    result['train_y'] = data[:10000, 13]\n",
    "    test_x1 = data[260000:, :4]\n",
    "    result['test_x1'] = test_x1[:, :, np.newaxis]\n",
    "    result['test_x2'] = data[260000:, 4:13]\n",
    "    result['test_y'] = data[260000:, 13]\n",
    "\n",
    "    return result"
   ]
  },
  {
   "cell_type": "code",
   "execution_count": 3,
   "metadata": {},
   "outputs": [],
   "source": [
    "datas = get_sliced_data(get_data())"
   ]
  },
  {
   "cell_type": "code",
   "execution_count": 4,
   "metadata": {
    "tags": []
   },
   "outputs": [],
   "source": [
    "def make_model():\n",
    "    inp1 = Input(shape=(4, 1))\n",
    "    inp2 = Input(shape=(9,))\n",
    "\n",
    "    x = LSTM(64, activation='relu')(inp1)\n",
    "    x = Dense(32, activation='relu')(x)\n",
    "    x = Dense(16, activation='relu')(x)\n",
    "    x = Dense(8, activation='relu')(x)\n",
    "\n",
    "    y = Dense(64, activation='relu')(inp2)\n",
    "    y = Dropout(0.5)(y)\n",
    "    y = Dense(32, activation='relu')(y)\n",
    "    y = Dropout(0.5)(y)\n",
    "    y = Dense(16, activation='relu')(y)\n",
    "    y = Dropout(0.5)(y)\n",
    "    y = Dense(8, activation='relu')(y)\n",
    "\n",
    "    z = Concatenate()([x, y])\n",
    "    z = Dense(16, activation='relu')(z)\n",
    "    z = Dropout(0.5)(z)\n",
    "    z = Dense(8, activation='relu')(z)\n",
    "    z = Dropout(0.5)(z)\n",
    "    z = Dense(4, activation='relu')(z)\n",
    "    z = Dropout(0.5)(z)\n",
    "    z = Dense(2, activation='relu')(z)\n",
    "\n",
    "    out = Dense(1)(z)\n",
    "\n",
    "    model = Model(inputs=[inp1, inp2], outputs=out)\n",
    "    \n",
    "    model.compile(optimizer='adam',\n",
    "                  loss=MeanSquaredError(),\n",
    "                  metrics=['mean_squared_error'])\n",
    "    \n",
    "    return model\n",
    "\n",
    "def make_call_back():\n",
    "    checkpoint_path = 'model/model.ckpt'\n",
    "    return tf.keras.callbacks.ModelCheckpoint(filepath=checkpoint_path,\n",
    "                                              save_weights_only=True,\n",
    "                                              verbose=1)\n",
    "\n",
    "\n",
    "def fit_model(model, datas, epochs, cp_callback=False, weights=False, checkpoint_path='model/model.ckpt'):\n",
    "    inp1 = datas['train_x1']\n",
    "    inp2 = datas['train_x2']\n",
    "    out = datas['train_y']\n",
    "\n",
    "    logdir=\"logs/fit/\"\n",
    "    tensorboard_callback = tf.keras.callbacks.TensorBoard(log_dir=logdir)\n",
    "\n",
    "    if weights:\n",
    "        model.load_weights(checkpoint_path)\n",
    "    \n",
    "    if cp_callback:\n",
    "        history = model.fit([inp1, inp2], [out], epochs=epochs, callbacks=[make_call_back(), tensorboard_callback])\n",
    "    else:\n",
    "        history = model.fit([inp1, inp2], [out], epochs=epochs)\n",
    "    \n",
    "    return model, history\n",
    "\n",
    "\n",
    "model = make_model()"
   ]
  },
  {
   "cell_type": "code",
   "execution_count": 5,
   "metadata": {},
   "outputs": [],
   "source": [
    "def make_plot(history):\n",
    "    plt.plot(history.history['mean_squared_error'])\n",
    "    plt.show()\n",
    "\n",
    "\n",
    "def test_model(model, x1, x2, y):\n",
    "    test_loss, test_acc = model.evaluate([x1, x2], y, verbose=2)\n",
    "    return test_loss, test_acc"
   ]
  },
  {
   "cell_type": "code",
   "execution_count": null,
   "metadata": {
    "tags": [
     "outputPrepend"
    ]
   },
   "outputs": [],
   "source": [
    "model, history = fit_model(model, datas, 100, cp_callback=True, weights=True)"
   ]
  },
  {
   "cell_type": "code",
   "execution_count": 6,
   "metadata": {},
   "outputs": [
    {
     "data": {
      "text/plain": "Reusing TensorBoard on port 6006 (pid 1348), started 0:06:01 ago. (Use '!kill 1348' to kill it.)"
     },
     "metadata": {},
     "output_type": "display_data"
    }
   ],
   "source": [
    "%tensorboard --logdir logs"
   ]
  },
  {
   "cell_type": "code",
   "execution_count": null,
   "metadata": {},
   "outputs": [],
   "source": [
    "make_plot(history)"
   ]
  },
  {
   "cell_type": "code",
   "execution_count": null,
   "metadata": {
    "tags": []
   },
   "outputs": [],
   "source": [
    "tf.keras.utils.plot_model(model, to_file='model.png')"
   ]
  },
  {
   "cell_type": "code",
   "execution_count": null,
   "metadata": {},
   "outputs": [],
   "source": []
  }
 ],
 "metadata": {
  "kernelspec": {
   "display_name": "Python 3",
   "language": "python",
   "name": "python3"
  },
  "language_info": {
   "codemirror_mode": {
    "name": "ipython",
    "version": 3
   },
   "file_extension": ".py",
   "mimetype": "text/x-python",
   "name": "python",
   "nbconvert_exporter": "python",
   "pygments_lexer": "ipython3",
   "version": "3.7.6-final"
  }
 },
 "nbformat": 4,
 "nbformat_minor": 4
}