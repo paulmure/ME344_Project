{
 "cells": [
  {
   "cell_type": "code",
   "execution_count": 2,
   "metadata": {},
   "outputs": [],
   "source": [
    "from tensorflow import keras\n",
    "import numpy as np\n",
    "from matplotlib import pyplot as plt"
   ]
  },
  {
   "cell_type": "code",
   "execution_count": 8,
   "metadata": {},
   "outputs": [],
   "source": [
    "data = np.genfromtxt('processed_cases.csv', delimiter=',')\n",
    "np.random.shuffle(data)\n",
    "train_data = data[:100, :4]\n",
    "train_labels = data[:100, 5]\n",
    "test_data = data[322181:, :4]\n",
    "test_labels = data[322181:, 5]"
   ]
  },
  {
   "cell_type": "code",
   "execution_count": 9,
   "metadata": {},
   "outputs": [],
   "source": [
    "model = keras.Sequential([\n",
    "    keras.layers.Input(shape=(4,)),\n",
    "    keras.layers.Dense(4, activation='tanh'),\n",
    "    keras.layers.Dense(8, activation='tanh'),\n",
    "    keras.layers.Dense(8, activation='tanh'),\n",
    "    keras.layers.Dense(4, activation='tanh'),\n",
    "    keras.layers.Dense(1)\n",
    "])\n",
    "\n",
    "model.compile(optimizer='adam',\n",
    "              loss=keras.losses.MeanSquaredError(),\n",
    "              metrics=['mean_squared_error'])"
   ]
  },
  {
   "cell_type": "code",
   "execution_count": 10,
   "metadata": {},
   "outputs": [
    {
     "name": "stdout",
     "output_type": "stream",
     "text": [
      "Epoch 1/50\n",
      "4/4 [==============================] - 0s 3ms/step - loss: 2936.8613 - mean_squared_error: 2936.8613\n",
      "Epoch 2/50\n",
      "4/4 [==============================] - 0s 3ms/step - loss: 2934.8765 - mean_squared_error: 2934.8765\n",
      "Epoch 3/50\n",
      "4/4 [==============================] - 0s 3ms/step - loss: 2933.1687 - mean_squared_error: 2933.1687\n",
      "Epoch 4/50\n",
      "4/4 [==============================] - 0s 3ms/step - loss: 2931.5281 - mean_squared_error: 2931.5281\n",
      "Epoch 5/50\n",
      "4/4 [==============================] - 0s 3ms/step - loss: 2929.6003 - mean_squared_error: 2929.6003\n",
      "Epoch 6/50\n",
      "4/4 [==============================] - 0s 3ms/step - loss: 2928.0681 - mean_squared_error: 2928.0681\n",
      "Epoch 7/50\n",
      "4/4 [==============================] - 0s 3ms/step - loss: 2926.6699 - mean_squared_error: 2926.6699\n",
      "Epoch 8/50\n",
      "4/4 [==============================] - 0s 3ms/step - loss: 2924.6943 - mean_squared_error: 2924.6943\n",
      "Epoch 9/50\n",
      "4/4 [==============================] - 0s 3ms/step - loss: 2923.0974 - mean_squared_error: 2923.0974\n",
      "Epoch 10/50\n",
      "4/4 [==============================] - 0s 3ms/step - loss: 2921.6360 - mean_squared_error: 2921.6360\n",
      "Epoch 11/50\n",
      "4/4 [==============================] - 0s 3ms/step - loss: 2920.3313 - mean_squared_error: 2920.3313\n",
      "Epoch 12/50\n",
      "4/4 [==============================] - 0s 3ms/step - loss: 2918.9131 - mean_squared_error: 2918.9131\n",
      "Epoch 13/50\n",
      "4/4 [==============================] - 0s 3ms/step - loss: 2917.8430 - mean_squared_error: 2917.8430\n",
      "Epoch 14/50\n",
      "4/4 [==============================] - 0s 3ms/step - loss: 2916.7490 - mean_squared_error: 2916.7490\n",
      "Epoch 15/50\n",
      "4/4 [==============================] - 0s 3ms/step - loss: 2915.7502 - mean_squared_error: 2915.7502\n",
      "Epoch 16/50\n",
      "4/4 [==============================] - 0s 3ms/step - loss: 2914.9609 - mean_squared_error: 2914.9609\n",
      "Epoch 17/50\n",
      "4/4 [==============================] - 0s 2ms/step - loss: 2914.1555 - mean_squared_error: 2914.1555\n",
      "Epoch 18/50\n",
      "4/4 [==============================] - 0s 3ms/step - loss: 2913.2051 - mean_squared_error: 2913.2051\n",
      "Epoch 19/50\n",
      "4/4 [==============================] - 0s 3ms/step - loss: 2912.3936 - mean_squared_error: 2912.3936\n",
      "Epoch 20/50\n",
      "4/4 [==============================] - 0s 3ms/step - loss: 2911.5850 - mean_squared_error: 2911.5850\n",
      "Epoch 21/50\n",
      "4/4 [==============================] - 0s 3ms/step - loss: 2910.6091 - mean_squared_error: 2910.6091\n",
      "Epoch 22/50\n",
      "4/4 [==============================] - 0s 2ms/step - loss: 2909.9160 - mean_squared_error: 2909.9160\n",
      "Epoch 23/50\n",
      "4/4 [==============================] - 0s 3ms/step - loss: 2909.1125 - mean_squared_error: 2909.1125\n",
      "Epoch 24/50\n",
      "4/4 [==============================] - 0s 3ms/step - loss: 2908.4797 - mean_squared_error: 2908.4797\n",
      "Epoch 25/50\n",
      "4/4 [==============================] - 0s 3ms/step - loss: 2907.9819 - mean_squared_error: 2907.9819\n",
      "Epoch 26/50\n",
      "4/4 [==============================] - 0s 3ms/step - loss: 2907.3135 - mean_squared_error: 2907.3135\n",
      "Epoch 27/50\n",
      "4/4 [==============================] - 0s 3ms/step - loss: 2906.8428 - mean_squared_error: 2906.8428\n",
      "Epoch 28/50\n",
      "4/4 [==============================] - 0s 3ms/step - loss: 2906.3167 - mean_squared_error: 2906.3167\n",
      "Epoch 29/50\n",
      "4/4 [==============================] - 0s 2ms/step - loss: 2905.7415 - mean_squared_error: 2905.7415\n",
      "Epoch 30/50\n",
      "4/4 [==============================] - 0s 3ms/step - loss: 2905.0991 - mean_squared_error: 2905.0991\n",
      "Epoch 31/50\n",
      "4/4 [==============================] - 0s 3ms/step - loss: 2904.3140 - mean_squared_error: 2904.3140\n",
      "Epoch 32/50\n",
      "4/4 [==============================] - 0s 3ms/step - loss: 2903.5476 - mean_squared_error: 2903.5476\n",
      "Epoch 33/50\n",
      "4/4 [==============================] - 0s 3ms/step - loss: 2902.7021 - mean_squared_error: 2902.7021\n",
      "Epoch 34/50\n",
      "4/4 [==============================] - 0s 2ms/step - loss: 2901.9758 - mean_squared_error: 2901.9758\n",
      "Epoch 35/50\n",
      "4/4 [==============================] - 0s 2ms/step - loss: 2901.3428 - mean_squared_error: 2901.3428\n",
      "Epoch 36/50\n",
      "4/4 [==============================] - 0s 3ms/step - loss: 2900.7354 - mean_squared_error: 2900.7354\n",
      "Epoch 37/50\n",
      "4/4 [==============================] - 0s 3ms/step - loss: 2899.9758 - mean_squared_error: 2899.9758\n",
      "Epoch 38/50\n",
      "4/4 [==============================] - 0s 3ms/step - loss: 2899.4990 - mean_squared_error: 2899.4990\n",
      "Epoch 39/50\n",
      "4/4 [==============================] - 0s 3ms/step - loss: 2898.9182 - mean_squared_error: 2898.9182\n",
      "Epoch 40/50\n",
      "4/4 [==============================] - 0s 3ms/step - loss: 2898.1663 - mean_squared_error: 2898.1663\n",
      "Epoch 41/50\n",
      "4/4 [==============================] - 0s 3ms/step - loss: 2897.6587 - mean_squared_error: 2897.6587\n",
      "Epoch 42/50\n",
      "4/4 [==============================] - 0s 3ms/step - loss: 2896.9082 - mean_squared_error: 2896.9082\n",
      "Epoch 43/50\n",
      "4/4 [==============================] - 0s 3ms/step - loss: 2896.2954 - mean_squared_error: 2896.2954\n",
      "Epoch 44/50\n",
      "4/4 [==============================] - 0s 3ms/step - loss: 2895.5237 - mean_squared_error: 2895.5237\n",
      "Epoch 45/50\n",
      "4/4 [==============================] - 0s 3ms/step - loss: 2894.7236 - mean_squared_error: 2894.7236\n",
      "Epoch 46/50\n",
      "4/4 [==============================] - 0s 3ms/step - loss: 2893.8623 - mean_squared_error: 2893.8623\n",
      "Epoch 47/50\n",
      "4/4 [==============================] - 0s 3ms/step - loss: 2893.3796 - mean_squared_error: 2893.3796\n",
      "Epoch 48/50\n",
      "4/4 [==============================] - 0s 3ms/step - loss: 2892.2544 - mean_squared_error: 2892.2544\n",
      "Epoch 49/50\n",
      "4/4 [==============================] - 0s 3ms/step - loss: 2891.2490 - mean_squared_error: 2891.2490\n",
      "Epoch 50/50\n",
      "4/4 [==============================] - 0s 3ms/step - loss: 2890.5488 - mean_squared_error: 2890.5488\n"
     ]
    },
    {
     "data": {
      "image/png": "[encoded data removed]",
      "text/plain": [
       "<Figure size 432x288 with 1 Axes>"
      ]
     },
     "metadata": {
      "needs_background": "light"
     },
     "output_type": "display_data"
    }
   ],
   "source": [
    "history = model.fit(train_data, train_labels, epochs=50)\n",
    "plt.plot(history.history['mean_squared_error'])\n",
    "plt.savefig('graph.png')"
   ]
  },
  {
   "cell_type": "code",
   "execution_count": 56,
   "metadata": {},
   "outputs": [
    {
     "name": "stdout",
     "output_type": "stream",
     "text": [
      "WARNING:tensorflow:Callbacks method `on_test_batch_end` is slow compared to the batch time (batch time: 0.0000s vs `on_test_batch_end` time: 0.0010s). Check your callbacks.\n",
      "1563/1563 - 1s - loss: 15772.7607 - mean_squared_error: 15772.7607\n"
     ]
    }
   ],
   "source": [
    "test_loss, test_acc = model.evaluate(test_data,  test_labels, verbose=2)"
   ]
  },
  {
   "cell_type": "code",
   "execution_count": null,
   "metadata": {},
   "outputs": [],
   "source": []
  }
 ],
 "metadata": {
  "kernelspec": {
   "display_name": "Python 3",
   "language": "python",
   "name": "python3"
  },
  "language_info": {
   "codemirror_mode": {
    "name": "ipython",
    "version": 3
   },
   "file_extension": ".py",
   "mimetype": "text/x-python",
   "name": "python",
   "nbconvert_exporter": "python",
   "pygments_lexer": "ipython3",
   "version": "3.7.6"
  }
 },
 "nbformat": 4,
 "nbformat_minor": 4
}
