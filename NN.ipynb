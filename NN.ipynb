{
 "cells": [
  {
   "cell_type": "code",
   "execution_count": 1,
   "metadata": {},
   "outputs": [],
   "source": [
    "import tensorflow as tf\n",
    "from tensorflow import keras\n",
    "import numpy as np\n",
    "import pandas as pd"
   ]
  },
  {
   "cell_type": "code",
   "execution_count": 2,
   "metadata": {},
   "outputs": [],
   "source": [
    "data = pd.read_csv('PublicDataSet_anonymized_200520.csv', sep=';', keep_default_na=False)"
   ]
  },
  {
   "cell_type": "code",
   "execution_count": 3,
   "metadata": {},
   "outputs": [],
   "source": [
    "translation_keys = {\n",
    "    'Age_at_diagnosis': {'26 - 45 years': 2, '46 - 65 years': 3, '66 - 85 years': 4, '<= 25 years': 1, '> 85 years': 5},\n",
    "    'Sex': {'Male': 1, 'Female': -1},\n",
    "    'Month_first_diagnosis': {'<= 3': 1, '4': 2},\n",
    "    'Year_first_diagnosis': {2020: 1},\n",
    "    'Uncomplicated_phase': {'yes': 1, 'no': 0},\n",
    "    'Complicated_phase': {'yes': 1, 'no': 0},\n",
    "    'Critical_phase': {'yes': 1, 'no': 0},\n",
    "    'Recovery_phase': {'yes': 1, 'no': 0},\n",
    "    'Vasopressors_in_complicated_phase': {'unknown/missing': 0, 'yes': 3, 'no': 2, 'n/a': 1},\n",
    "    'Vasopressors_in_critical_phase': {'unknown/missing': 0, 'yes': 3, 'no': 2, 'n/a': 1},\n",
    "    'Invasive_ventilation_in_critical_phase': {'unknown/missing': 0, 'yes': 3, 'no': 2, 'n/a': 1},\n",
    "    'Superinfection_in_uncomplicated_phase': {'unknown/missing': 0, 'none': 2, 'bacterial': 3, 'n/a': 1},\n",
    "    'Superinfection_in_complicated_phase': {'unknown/missing': 0, 'none': 2, 'bacterial': 3, 'n/a': 1},\n",
    "    'Superinfection_in_critical_phase': {'n/a': 1, 'none': 2, 'fungal': 3, 'unknown/missing': 0, 'bacterial&fungal': 5, 'bacterial': 4},\n",
    "    'Symptoms_in_recovery_phase': {'yes': 3, 'n/a': 1, 'no': 2, 'unknown/missing': 0},\n",
    "    'Last_known_patient_status': {'Not recovered (means recovery phase not achieved)': 1, 'Dead from COVID-19': 2, 'Dead from other causes':3 , 'Recovered': 4, 'unknown/missing': 0},\n",
    "}"
   ]
  },
  {
   "cell_type": "code",
   "execution_count": 4,
   "metadata": {},
   "outputs": [],
   "source": [
    "# translate data into numbers for machine learning and save to csv file\n",
    "for name in data.columns:\n",
    "    data[name] = [translation_keys[name][patient] for patient in data[name]]\n",
    "\n",
    "data.to_csv('processed_data.csv', index=False, header=False)"
   ]
  },
  {
   "cell_type": "code",
   "execution_count": 5,
   "metadata": {},
   "outputs": [],
   "source": [
    "processed_data = np.genfromtxt('processed_data.csv', delimiter=',')\n",
    "\n",
    "train_data = processed_data[:1700, :15]\n",
    "train_label = processed_data[:1700, 15]\n",
    "train_label = keras.utils.to_categorical(train_label, num_classes=5)\n",
    "test_data = processed_data[1700:, :15]\n",
    "test_label = processed_data[1700:, 15]\n",
    "test_label = keras.utils.to_categorical(test_label, num_classes=5)"
   ]
  },
  {
   "cell_type": "code",
   "execution_count": 8,
   "metadata": {},
   "outputs": [],
   "source": [
    "model = keras.Sequential([\n",
    "    keras.layers.Input(shape=(15,)),\n",
    "    keras.layers.Dense(6, activation='sigmoid'),\n",
    "    keras.layers.Dense(5, activation='softmax')\n",
    "])\n",
    "\n",
    "model.compile(optimizer='adam',\n",
    "              loss=tf.keras.losses.CategoricalCrossentropy(from_logits=True),\n",
    "              metrics=['accuracy'])"
   ]
  },
  {
   "cell_type": "code",
   "execution_count": 10,
   "metadata": {},
   "outputs": [
    {
     "name": "stdout",
     "output_type": "stream",
     "text": [
      "Epoch 1/10\n",
      "54/54 [==============================] - 0s 907us/step - loss: 1.2068 - accuracy: 0.7135\n",
      "Epoch 2/10\n",
      "54/54 [==============================] - 0s 907us/step - loss: 1.2046 - accuracy: 0.7135\n",
      "Epoch 3/10\n",
      "54/54 [==============================] - 0s 889us/step - loss: 1.2029 - accuracy: 0.7135\n",
      "Epoch 4/10\n",
      "54/54 [==============================] - 0s 907us/step - loss: 1.2015 - accuracy: 0.7135\n",
      "Epoch 5/10\n",
      "54/54 [==============================] - 0s 907us/step - loss: 1.2003 - accuracy: 0.7135\n",
      "Epoch 6/10\n",
      "54/54 [==============================] - 0s 889us/step - loss: 1.1994 - accuracy: 0.7135\n",
      "Epoch 7/10\n",
      "54/54 [==============================] - 0s 926us/step - loss: 1.1986 - accuracy: 0.7135\n",
      "Epoch 8/10\n",
      "54/54 [==============================] - 0s 870us/step - loss: 1.1979 - accuracy: 0.7135\n",
      "Epoch 9/10\n",
      "54/54 [==============================] - 0s 926us/step - loss: 1.1973 - accuracy: 0.7135\n",
      "Epoch 10/10\n",
      "54/54 [==============================] - 0s 889us/step - loss: 1.1968 - accuracy: 0.7135\n"
     ]
    },
    {
     "data": {
      "text/plain": [
       "<tensorflow.python.keras.callbacks.History at 0x20a37e4e288>"
      ]
     },
     "execution_count": 10,
     "metadata": {},
     "output_type": "execute_result"
    }
   ],
   "source": [
    "model.fit(train_data, train_label, epochs=10, batch_size=32)"
   ]
  },
  {
   "cell_type": "code",
   "execution_count": 11,
   "metadata": {},
   "outputs": [
    {
     "name": "stdout",
     "output_type": "stream",
     "text": [
      "8/8 - 0s - loss: 1.1669 - accuracy: 0.7437\n"
     ]
    }
   ],
   "source": [
    "test_loss, test_acc = model.evaluate(test_data,  test_label, verbose=2)"
   ]
  }
 ],
 "metadata": {
  "kernelspec": {
   "display_name": "Python 3",
   "language": "python",
   "name": "python3"
  },
  "language_info": {
   "codemirror_mode": {
    "name": "ipython",
    "version": 3
   },
   "file_extension": ".py",
   "mimetype": "text/x-python",
   "name": "python",
   "nbconvert_exporter": "python",
   "pygments_lexer": "ipython3",
   "version": "3.7.6"
  }
 },
 "nbformat": 4,
 "nbformat_minor": 4
}
